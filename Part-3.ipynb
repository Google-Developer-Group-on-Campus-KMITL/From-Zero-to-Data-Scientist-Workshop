{
 "cells": [
  {
   "cell_type": "code",
   "execution_count": 1,
   "metadata": {},
   "outputs": [],
   "source": [
    "import numpy as np\n",
    "import pandas as pd\n",
    "import seaborn as sns\n",
    "\n",
    "import matplotlib.pyplot as plt\n",
    "\n",
    "from sklearn import preprocessing\n",
    "from sklearn.ensemble import RandomForestClassifier\n",
    "from sklearn.model_selection import train_test_split"
   ]
  },
  {
   "cell_type": "code",
   "execution_count": null,
   "metadata": {},
   "outputs": [],
   "source": [
    "url = 'https://docs.google.com/spreadsheets/d/17gwptKOr03IIYs41n5hPrG81qm1i62eUyTdcX4FgYGI/edit?gid=1779823967#gid=1779823967'\n",
    "csv_url = url.replace('/edit?gid=', '/export?format=csv&gid=')\n",
    "\n",
    "df = pd.read_csv(csv_url)\n",
    "df"
   ]
  },
  {
   "cell_type": "code",
   "execution_count": null,
   "metadata": {},
   "outputs": [],
   "source": [
    "df.drop(columns = ['Timestamp'], inplace = True)\n",
    "df"
   ]
  },
  {
   "cell_type": "code",
   "execution_count": null,
   "metadata": {},
   "outputs": [],
   "source": [
    "df['Faculty'].fillna('High School', inplace = True)\n",
    "df"
   ]
  },
  {
   "cell_type": "code",
   "execution_count": 5,
   "metadata": {},
   "outputs": [],
   "source": [
    "def fill_level_of_education(row: pd.Series) -> None:\n",
    "\n",
    "\tif row['Age'] < 18 or pd.isna(row['Faculty']):\n",
    "\t\treturn 'High school'\n",
    "\n",
    "\treturn 'Bachelor Degree'"
   ]
  },
  {
   "cell_type": "code",
   "execution_count": null,
   "metadata": {},
   "outputs": [],
   "source": [
    "df['What level of education are you currently studying?'] = df.apply(fill_level_of_education, axis=1)\n",
    "df['Year'].fillna(0, inplace = True)\n",
    "\n",
    "df"
   ]
  },
  {
   "cell_type": "code",
   "execution_count": 7,
   "metadata": {},
   "outputs": [],
   "source": [
    "expenses_range = {\n",
    "\t\"<10,000\": 1,\n",
    "    \">10,000 but <15,000\": 2,\n",
    "    \">15,000 but <20,000\": 3,\n",
    "    \">20,000\": 4\n",
    "}\n",
    "\n",
    "excercise_value = {\n",
    "\t\"Never\": 1,\n",
    "\t\"Rarely\": 2,\n",
    "\t\"Weekly\": 3,\n",
    "\t\"Daily\": 4\n",
    "}\n",
    "\n",
    "frequency_to_number = {\n",
    "\t\"Never\": 1,\n",
    "\t\"Rarely\": 2,\n",
    "\t\"Sometimes\": 3,\n",
    "\t\"Often\": 4,\n",
    "\t\"Always\": 5\n",
    "}"
   ]
  },
  {
   "cell_type": "code",
   "execution_count": null,
   "metadata": {},
   "outputs": [],
   "source": [
    "df.columns"
   ]
  },
  {
   "cell_type": "code",
   "execution_count": null,
   "metadata": {},
   "outputs": [],
   "source": [
    "df['What is your average monthly expense as a student?'] = [expenses_range[val] for val in df['What is your average monthly expense as a student?']]\n",
    "df['How often do you exercise?'] = [excercise_value[val] for val in df['How often do you exercise?']]\n",
    "df['Do you feel stressed due to academic pressure? '] = [frequency_to_number[val] for val in df['Do you feel stressed due to academic pressure? ']]\n",
    "\n",
    "df"
   ]
  },
  {
   "cell_type": "code",
   "execution_count": null,
   "metadata": {},
   "outputs": [],
   "source": [
    "sns.histplot(df['Age'])"
   ]
  },
  {
   "cell_type": "code",
   "execution_count": null,
   "metadata": {},
   "outputs": [],
   "source": [
    "sns.histplot(df['Faculty'])"
   ]
  },
  {
   "cell_type": "code",
   "execution_count": null,
   "metadata": {},
   "outputs": [],
   "source": [
    "sns.scatterplot(\n",
    "    df[['What is your average monthly expense as a student?', 'Do you feel stressed due to academic pressure? ']],\n",
    "    legend = False\n",
    ")\n",
    "\n",
    "plt.title('Hour of sleep VS Academic stress')\n",
    "plt.show()"
   ]
  },
  {
   "cell_type": "code",
   "execution_count": null,
   "metadata": {},
   "outputs": [],
   "source": [
    "sns.scatterplot(\n",
    "    df[['How many hours do you sleep on average?', 'Do you feel stressed due to academic pressure? ']],\n",
    "    legend = False\n",
    ")\n",
    "\n",
    "plt.title('Hour of sleep VS Academic stress')\n",
    "plt.show()"
   ]
  },
  {
   "cell_type": "code",
   "execution_count": null,
   "metadata": {},
   "outputs": [],
   "source": [
    "sns.__version__"
   ]
  },
  {
   "cell_type": "code",
   "execution_count": null,
   "metadata": {},
   "outputs": [],
   "source": [
    "sns.heatmap(df.corr(numeric_only = True).fillna(1))"
   ]
  },
  {
   "cell_type": "code",
   "execution_count": null,
   "metadata": {},
   "outputs": [],
   "source": [
    "x = df['How many hours do you sleep on average?']\n",
    "y = df['Do you feel stressed due to academic pressure? ']\n",
    "\n",
    "coeff = np.polyfit(x, y, deg = 1)\n",
    "linear_regression_func = np.poly1d(coeff)\n",
    "\n",
    "plt.plot(x, y, 'yo', x, linear_regression_func(x), '--k')\n",
    "plt.title('Hour of sleep VS Academic stress (Prediction)')\n",
    "\n",
    "plt.show()"
   ]
  },
  {
   "cell_type": "code",
   "execution_count": null,
   "metadata": {},
   "outputs": [],
   "source": [
    "# Predicting academic stress level from hour of sleep\n",
    "hours_of_sleep = 5\n",
    "print(f'Academic stress level when sleep {hours_of_sleep} hours: {linear_regression_func(hours_of_sleep)}')"
   ]
  },
  {
   "cell_type": "code",
   "execution_count": null,
   "metadata": {},
   "outputs": [],
   "source": [
    "df.select_dtypes('object')"
   ]
  },
  {
   "cell_type": "code",
   "execution_count": null,
   "metadata": {},
   "outputs": [],
   "source": [
    "transformer = dict()\n",
    "\n",
    "for col in df.select_dtypes('object').columns:\n",
    "    transformer[col] = preprocessing.LabelEncoder()\n",
    "    df[col] = transformer[col].fit_transform(df[col])\n",
    "\n",
    "(train_df, test_df) = train_test_split(df, test_size = 0.2)\n",
    "train_df"
   ]
  },
  {
   "cell_type": "code",
   "execution_count": null,
   "metadata": {},
   "outputs": [],
   "source": [
    "features = [\n",
    "\t# Select your topic\n",
    "]\n",
    "\n",
    "target_topic = 'What is your preferred learning method?'\n",
    "\n",
    "if target_topic in features:\n",
    "    raise KeyError('feature containing label data. Try using another question.')\n",
    "\n",
    "x = train_df[features]\n",
    "y = train_df[target_topic]\n",
    "\n",
    "dtree = RandomForestClassifier()\n",
    "dtree = dtree.fit(x, y)\n",
    "dtree"
   ]
  },
  {
   "cell_type": "code",
   "execution_count": null,
   "metadata": {},
   "outputs": [],
   "source": [
    "sample = test_df\n",
    "x_sample = sample[features].copy()\n",
    "\n",
    "for col in x_sample.columns:\n",
    "\n",
    "\ttry:\n",
    "\t\tx_sample.loc[:, col] = transformer[col].inverse_transform(x_sample[col])\n",
    "\t\t\n",
    "\texcept KeyError:\n",
    "\t\tcontinue\n",
    "\n",
    "x_sample.loc[:, f'{target_topic} (Prediction)'] = transformer[target_topic].inverse_transform(dtree.predict(sample[features]))\n",
    "x_sample.loc[:, f'{target_topic} (Actual)'] = transformer[target_topic].inverse_transform(sample[target_topic])\n",
    "x_sample.loc[:, 'Confidence (%)'] = [round(float(max(e)), 2) for e in dtree.predict_proba(sample[features]) * 100]\n",
    "\n",
    "print(f'Prediction accuracy: {dtree.score(sample[features], sample[target_topic])*100:.2f}%')\n",
    "print(f'Average confidence: {x_sample[\"Confidence (%)\"].mean():.2f}%')\n",
    "\n",
    "x_sample"
   ]
  }
 ],
 "metadata": {
  "kernelspec": {
   "display_name": "conda310-venv",
   "language": "python",
   "name": "python3"
  },
  "language_info": {
   "codemirror_mode": {
    "name": "ipython",
    "version": 3
   },
   "file_extension": ".py",
   "mimetype": "text/x-python",
   "name": "python",
   "nbconvert_exporter": "python",
   "pygments_lexer": "ipython3",
   "version": "3.10.6"
  }
 },
 "nbformat": 4,
 "nbformat_minor": 2
}
