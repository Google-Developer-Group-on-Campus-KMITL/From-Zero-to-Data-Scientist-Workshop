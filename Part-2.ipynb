{
 "cells": [
  {
   "cell_type": "code",
   "execution_count": 1,
   "metadata": {},
   "outputs": [],
   "source": [
    "import numpy as np\n",
    "import pandas as pd\n",
    "import seaborn as sns\n",
    "\n",
    "import matplotlib.pyplot as plt"
   ]
  },
  {
   "cell_type": "markdown",
   "metadata": {},
   "source": [
    "# Numpy"
   ]
  },
  {
   "cell_type": "markdown",
   "metadata": {},
   "source": [
    "สร้างอาร์เรย์จาก list"
   ]
  },
  {
   "cell_type": "code",
   "execution_count": null,
   "metadata": {},
   "outputs": [],
   "source": [
    "arr1 = np.array([1, 2, 3, 4, 5])\n",
    "arr1"
   ]
  },
  {
   "cell_type": "markdown",
   "metadata": {},
   "source": [
    "สร้างอาร์เรย์ 3x4 ที่มีค่าเป็น 0 ทั้งหมด"
   ]
  },
  {
   "cell_type": "code",
   "execution_count": null,
   "metadata": {},
   "outputs": [],
   "source": [
    "arr2 = np.zeros((3, 4)) \n",
    "arr2"
   ]
  },
  {
   "cell_type": "markdown",
   "metadata": {},
   "source": [
    "สร้างอาร์เรย์ [0, 2, 4, 6, 8]"
   ]
  },
  {
   "cell_type": "code",
   "execution_count": null,
   "metadata": {},
   "outputs": [],
   "source": [
    "arr3 = np.arange(0, 10, 2)\n",
    "arr3"
   ]
  },
  {
   "cell_type": "markdown",
   "metadata": {},
   "source": [
    "สร้างอาร์เรย์ 2 มิติ"
   ]
  },
  {
   "cell_type": "code",
   "execution_count": null,
   "metadata": {},
   "outputs": [],
   "source": [
    "arr2d = np.array([[1, 2, 3], [4, 5, 6]])\n",
    "\n",
    "print(f'(rows, cols) -> {arr2d.shape}')\n",
    "arr2d"
   ]
  },
  {
   "cell_type": "markdown",
   "metadata": {},
   "source": [
    "เข้าถึงข้อมูลจากอาร์เรย์ 2 มิติ"
   ]
  },
  {
   "cell_type": "code",
   "execution_count": null,
   "metadata": {},
   "outputs": [],
   "source": [
    "arr2d[0, 1] # (สมาชิกแถวที่ 0 คอลัมน์ที่ 1)"
   ]
  },
  {
   "cell_type": "code",
   "execution_count": null,
   "metadata": {},
   "outputs": [],
   "source": [
    "arr2d[:, 1] # (คอลัมน์ที่ 1 ทั้งหมด)"
   ]
  },
  {
   "cell_type": "code",
   "execution_count": null,
   "metadata": {},
   "outputs": [],
   "source": [
    "arr2d[0:2, 1:3] # (แถว 0-2 คอลัมน์ที่ 1-3)"
   ]
  },
  {
   "cell_type": "markdown",
   "metadata": {},
   "source": [
    "Operation ต่างๆ ของ Numpy Array"
   ]
  },
  {
   "cell_type": "code",
   "execution_count": 9,
   "metadata": {},
   "outputs": [],
   "source": [
    "x = np.array([1, 2, 3])\n",
    "y = np.array([4, 5, 6])"
   ]
  },
  {
   "cell_type": "code",
   "execution_count": null,
   "metadata": {},
   "outputs": [],
   "source": [
    "print(x + y)\n",
    "print(x - y)\n",
    "print(x * y)\n",
    "print(x / y)"
   ]
  },
  {
   "cell_type": "code",
   "execution_count": null,
   "metadata": {},
   "outputs": [],
   "source": [
    "print(x + 5)\n",
    "print(x - 5)\n",
    "print(x * 5)\n",
    "print(x / 5)"
   ]
  },
  {
   "cell_type": "code",
   "execution_count": null,
   "metadata": {},
   "outputs": [],
   "source": [
    "np.sum(x)"
   ]
  },
  {
   "cell_type": "code",
   "execution_count": null,
   "metadata": {},
   "outputs": [],
   "source": [
    "x = np.array([[1, 2], [3, 4]])\n",
    "y = np.array([[5, 6], [7, 8]])\n",
    "\n",
    "np.dot(x, y)"
   ]
  },
  {
   "cell_type": "markdown",
   "metadata": {},
   "source": [
    "สร้าง array จากค่าในช่วงที่กำหนด"
   ]
  },
  {
   "cell_type": "code",
   "execution_count": null,
   "metadata": {},
   "outputs": [],
   "source": [
    "arr_range = np.arange(12)\n",
    "arr_range"
   ]
  },
  {
   "cell_type": "markdown",
   "metadata": {},
   "source": [
    "Reshape array เป็น shape ที่กำหนด"
   ]
  },
  {
   "cell_type": "code",
   "execution_count": null,
   "metadata": {},
   "outputs": [],
   "source": [
    "arr_range.reshape(3, 4)"
   ]
  },
  {
   "cell_type": "code",
   "execution_count": null,
   "metadata": {},
   "outputs": [],
   "source": [
    "# Create an array with shape (3, 2) and show that the shape is correct\n"
   ]
  },
  {
   "cell_type": "code",
   "execution_count": null,
   "metadata": {},
   "outputs": [],
   "source": [
    "# Double all the value from the first excercise\n"
   ]
  },
  {
   "cell_type": "markdown",
   "metadata": {},
   "source": [
    "# Pandas"
   ]
  },
  {
   "cell_type": "markdown",
   "metadata": {},
   "source": [
    "สร้าง Pandas Series จาก list"
   ]
  },
  {
   "cell_type": "code",
   "execution_count": null,
   "metadata": {},
   "outputs": [],
   "source": [
    "data = [10, 20, 30, 40, 50]\n",
    "s = pd.Series(data)\n",
    "\n",
    "s"
   ]
  },
  {
   "cell_type": "markdown",
   "metadata": {},
   "source": [
    "สร้าง Series พร้อมกำหนด index เอง"
   ]
  },
  {
   "cell_type": "code",
   "execution_count": null,
   "metadata": {},
   "outputs": [],
   "source": [
    "s = pd.Series(data, index=['a', 'b', 'c', 'd', 'e'])\n",
    "s"
   ]
  },
  {
   "cell_type": "markdown",
   "metadata": {},
   "source": [
    "สร้าง Pandas DataFrame จาก dict"
   ]
  },
  {
   "cell_type": "code",
   "execution_count": null,
   "metadata": {},
   "outputs": [],
   "source": [
    "data = {\n",
    "    'Name': ['Alice', 'Bob', 'Charlie'],\n",
    "\t'Age': [25, 30, 22],\n",
    "\t'City': ['New York', 'London', 'Paris']\n",
    "}\n",
    "\n",
    "df = pd.DataFrame(data)\n",
    "df"
   ]
  },
  {
   "cell_type": "markdown",
   "metadata": {},
   "source": [
    "เข้าถึงข้อมูลใน DataFrame"
   ]
  },
  {
   "cell_type": "code",
   "execution_count": null,
   "metadata": {},
   "outputs": [],
   "source": [
    "df['Name'] # เลือกคอลัมน์ 'Name'"
   ]
  },
  {
   "cell_type": "code",
   "execution_count": null,
   "metadata": {},
   "outputs": [],
   "source": [
    "df[['Name', 'Age']] # เลือกคอลัมน์ 'Name' และ 'Age'"
   ]
  },
  {
   "cell_type": "code",
   "execution_count": null,
   "metadata": {},
   "outputs": [],
   "source": [
    "# Select \"Age\" and \"City\"\n"
   ]
  },
  {
   "cell_type": "code",
   "execution_count": null,
   "metadata": {},
   "outputs": [],
   "source": [
    "df[0:2] # เลือกแถว 0 และ 1"
   ]
  },
  {
   "cell_type": "code",
   "execution_count": null,
   "metadata": {},
   "outputs": [],
   "source": [
    "df.loc[0] # เลือกแถวที่มี index เป็น 0"
   ]
  },
  {
   "cell_type": "code",
   "execution_count": null,
   "metadata": {},
   "outputs": [],
   "source": [
    "df.loc[0, 'Name'] # เลือกข้อมูลแถว 0 จากคอลัมน์ 'Name'"
   ]
  },
  {
   "cell_type": "code",
   "execution_count": null,
   "metadata": {},
   "outputs": [],
   "source": [
    "df.iloc[0] # เลือกแถวที่ตำแหน่ง 0"
   ]
  },
  {
   "cell_type": "code",
   "execution_count": null,
   "metadata": {},
   "outputs": [],
   "source": [
    "df.iloc[0, 0] # เลือกข้อมูลที่ตำแหน่งแถว 0 คอลัมน์ 0"
   ]
  },
  {
   "cell_type": "code",
   "execution_count": null,
   "metadata": {},
   "outputs": [],
   "source": [
    "df[df['Age'] > 25] # เลือกแถวที่อายุมากกว่า 25 ปี"
   ]
  },
  {
   "cell_type": "code",
   "execution_count": null,
   "metadata": {},
   "outputs": [],
   "source": [
    "# เลือกคนที่มาจากเมือง 'New York' และอายุมากกว่า 20 ปี\n",
    "df[(df['City'] == 'New York') & (df['Age'] > 20)]"
   ]
  },
  {
   "cell_type": "code",
   "execution_count": null,
   "metadata": {},
   "outputs": [],
   "source": [
    "df.query('City == \"New York\" and Age > 20')"
   ]
  },
  {
   "cell_type": "code",
   "execution_count": null,
   "metadata": {},
   "outputs": [],
   "source": [
    "# Query a person who age > 23 and lives in London\n"
   ]
  },
  {
   "cell_type": "markdown",
   "metadata": {},
   "source": [
    "เพิ่ม column ไปใน DataFrame"
   ]
  },
  {
   "cell_type": "code",
   "execution_count": null,
   "metadata": {},
   "outputs": [],
   "source": [
    "df['Salary'] = [50000, 60000, 55000]\n",
    "df['DoubleAge'] = df['Age'] * 2\n",
    "\n",
    "df"
   ]
  },
  {
   "cell_type": "markdown",
   "metadata": {},
   "source": [
    "ลบ column ออกจาก DataFrame"
   ]
  },
  {
   "cell_type": "code",
   "execution_count": null,
   "metadata": {},
   "outputs": [],
   "source": [
    "df.drop('Salary', axis=1) # ลบคอลัมน์ 'Salary'"
   ]
  },
  {
   "cell_type": "code",
   "execution_count": null,
   "metadata": {},
   "outputs": [],
   "source": [
    "df.drop(columns=['Salary', 'DoubleAge']) # ลบหลาย column พร้อมๆ กัน"
   ]
  },
  {
   "cell_type": "code",
   "execution_count": null,
   "metadata": {},
   "outputs": [],
   "source": [
    "df.drop(0) # ลบแถวที่มี index เป็น 0"
   ]
  },
  {
   "cell_type": "code",
   "execution_count": null,
   "metadata": {},
   "outputs": [],
   "source": [
    "df.drop([0, 2]) # ลบหลายแถวพร้อมๆกัน"
   ]
  },
  {
   "cell_type": "markdown",
   "metadata": {},
   "source": [
    "เปลื่ยนชื่อ column ใน DataFrame"
   ]
  },
  {
   "cell_type": "code",
   "execution_count": null,
   "metadata": {},
   "outputs": [],
   "source": [
    "df = df.rename(columns={'Name': 'FullName', 'Age': 'Years'})\n",
    "df"
   ]
  },
  {
   "cell_type": "markdown",
   "metadata": {},
   "source": [
    "เรียงค่าใน DataFrame จากข้อมูลใน column"
   ]
  },
  {
   "cell_type": "code",
   "execution_count": null,
   "metadata": {},
   "outputs": [],
   "source": [
    "df.sort_values(by='Years') # เรียงลำดับตามคอลัมน์ 'Age' (น้อยไปมาก)"
   ]
  },
  {
   "cell_type": "code",
   "execution_count": null,
   "metadata": {},
   "outputs": [],
   "source": [
    "df.sort_values(by='Years', ascending=False) # เรียงลำดับตามคอลัมน์ 'Age' (มากไปน้อย)"
   ]
  },
  {
   "cell_type": "code",
   "execution_count": null,
   "metadata": {},
   "outputs": [],
   "source": [
    "df.sort_values(by=['City', 'Years']) # เรียงลำดับตาม 'City' ก่อน แล้วตาม 'Age'"
   ]
  },
  {
   "cell_type": "markdown",
   "metadata": {},
   "source": [
    "รวม DataFrame เข้าด้วยกัน"
   ]
  },
  {
   "cell_type": "code",
   "execution_count": 38,
   "metadata": {},
   "outputs": [],
   "source": [
    "df1 = pd.DataFrame({'A': [1, 2, 3], 'B': [4, 5, 6]})\n",
    "df2 = pd.DataFrame({'C': [7, 8, 9], 'D': [10, 11, 12]})"
   ]
  },
  {
   "cell_type": "code",
   "execution_count": null,
   "metadata": {},
   "outputs": [],
   "source": [
    "pd.concat([df1, df2]) # รวม df1 และ df2 เข้าด้วยกันตาม rows"
   ]
  },
  {
   "cell_type": "code",
   "execution_count": null,
   "metadata": {},
   "outputs": [],
   "source": [
    "pd.concat([df1, df2], axis = 1) # รวม df1 และ df2 เข้าด้วยกันตาม column"
   ]
  },
  {
   "cell_type": "markdown",
   "metadata": {},
   "source": [
    "## Example use cases of Pandas\n",
    "\n",
    "อ่านข้อมูลจากไฟล์ .csv"
   ]
  },
  {
   "cell_type": "code",
   "execution_count": null,
   "metadata": {},
   "outputs": [],
   "source": [
    "df = pd.read_csv('https://github.com/Google-Developer-Group-on-Campus-KMITL/From-Zero-to-Data-Scientist-Workshop/raw/refs/heads/main/data/imdb_top_1000.csv')\n",
    "df"
   ]
  },
  {
   "cell_type": "markdown",
   "metadata": {},
   "source": [
    "ดูคุณสมบัติของ dataset"
   ]
  },
  {
   "cell_type": "code",
   "execution_count": null,
   "metadata": {},
   "outputs": [],
   "source": [
    "df.info()"
   ]
  },
  {
   "cell_type": "code",
   "execution_count": null,
   "metadata": {},
   "outputs": [],
   "source": [
    "df.describe()"
   ]
  },
  {
   "cell_type": "markdown",
   "metadata": {},
   "source": [
    "นับจำนวนข้อมูลที่หายไปในแต่ละ column"
   ]
  },
  {
   "cell_type": "code",
   "execution_count": null,
   "metadata": {},
   "outputs": [],
   "source": [
    "df.isnull().sum()"
   ]
  },
  {
   "cell_type": "markdown",
   "metadata": {},
   "source": [
    "## Data cleaning\n",
    "\n",
    "ตัวอย่างข้อมูลที่จำเป็นต้อง clean ก่อนนำไปใช้งาน"
   ]
  },
  {
   "cell_type": "code",
   "execution_count": null,
   "metadata": {},
   "outputs": [],
   "source": [
    "df[['Runtime', 'Gross', 'Certificate', 'Meta_score']]"
   ]
  },
  {
   "cell_type": "markdown",
   "metadata": {},
   "source": [
    "ทำความสะอาดคอลัมน์ \"Runtime\" ให้กลายเป็นตัวเลข"
   ]
  },
  {
   "cell_type": "code",
   "execution_count": 45,
   "metadata": {},
   "outputs": [],
   "source": [
    "def clean_runtime(runtime: str) -> int:\n",
    "\n",
    "\ttry:\n",
    "\t\treturn int(runtime.replace(' min', ''))\n",
    "\n",
    "\texcept ValueError:\n",
    "\t\treturn np.nan"
   ]
  },
  {
   "cell_type": "code",
   "execution_count": null,
   "metadata": {},
   "outputs": [],
   "source": [
    "df['Runtime'] = df['Runtime'].apply(clean_runtime)\n",
    "df['Runtime']"
   ]
  },
  {
   "cell_type": "markdown",
   "metadata": {},
   "source": [
    "แทนที่ข้อมูลที่หายไปในคอลัมน์ \"Certificate\" ด้วย \"Not Rated\""
   ]
  },
  {
   "cell_type": "code",
   "execution_count": null,
   "metadata": {},
   "outputs": [],
   "source": [
    "df['Certificate'].fillna('Not Rated', inplace=True)\n",
    "df['Certificate']"
   ]
  },
  {
   "cell_type": "markdown",
   "metadata": {},
   "source": [
    "แทนที่ข้อมูลที่หายไปในคอลัมน์ \"Meta_score\" โดยการหาค่าเฉลื่ยจาก dataset"
   ]
  },
  {
   "cell_type": "code",
   "execution_count": null,
   "metadata": {},
   "outputs": [],
   "source": [
    "df['Meta_score'].fillna(df['Meta_score'].mean(), inplace=True)\n",
    "df['Meta_score']"
   ]
  },
  {
   "cell_type": "markdown",
   "metadata": {},
   "source": [
    "แตกคอลัมน์ \"Genre\" ให้เป็น list แล้วแยกเป็นคอลัมน์ \"Genre_List\" เพื่อการอ่านข้อมูลได้ง่ายขึ้น"
   ]
  },
  {
   "cell_type": "code",
   "execution_count": null,
   "metadata": {},
   "outputs": [],
   "source": [
    "df['Genre_List'] = df['Genre'].str.split(', ')\n",
    "df[['Genre', 'Genre_List']]"
   ]
  },
  {
   "cell_type": "markdown",
   "metadata": {},
   "source": [
    "เปลื่ยนคอลัมน์ \"Gross\" จาก string เป็น float"
   ]
  },
  {
   "cell_type": "code",
   "execution_count": 50,
   "metadata": {},
   "outputs": [],
   "source": [
    "def clean_gross(gross: str) -> float:\n",
    "    \n",
    "    try:\n",
    "        return float(gross.replace(',', ''))\n",
    "    \n",
    "    except:\n",
    "        return np.nan"
   ]
  },
  {
   "cell_type": "code",
   "execution_count": null,
   "metadata": {},
   "outputs": [],
   "source": [
    "df['Gross'] = df['Gross'].apply(clean_gross)\n",
    "df['Gross'].fillna(0, inplace=True)\n",
    "df['Gross']"
   ]
  },
  {
   "cell_type": "markdown",
   "metadata": {},
   "source": [
    "ลบข้อมูลซ้ำออกจาก dataset"
   ]
  },
  {
   "cell_type": "code",
   "execution_count": null,
   "metadata": {},
   "outputs": [],
   "source": [
    "duplicates = df.duplicated(subset=['Series_Title', 'Released_Year', 'Director'])\n",
    "\n",
    "print(duplicates)\n",
    "\n",
    "if duplicates.any():\n",
    "    df = df.drop_duplicates(subset=['Series_Title', 'Released_Year', 'Director'])\n"
   ]
  },
  {
   "cell_type": "markdown",
   "metadata": {},
   "source": [
    "ทำการกำจัดค่าผิดปกติ (Outliers) ออกจาก dataset โดยใช้ Interquartile Range (IQR)"
   ]
  },
  {
   "cell_type": "code",
   "execution_count": 53,
   "metadata": {},
   "outputs": [],
   "source": [
    "def handle_outliers(df: pd.DataFrame, column: pd.Series) -> pd.DataFrame:\n",
    "    \n",
    "    Q1 = df[column].quantile(0.25)\n",
    "    Q3 = df[column].quantile(0.75)\n",
    "    IQR = Q3 - Q1\n",
    "    \n",
    "    lower_bound = Q1 - 1.5 * IQR\n",
    "    upper_bound = Q3 + 1.5 * IQR\n",
    "    \n",
    "    df[f'{column}_Cleaned'] = df[column].clip(lower_bound, upper_bound)\n",
    "    \n",
    "    return df"
   ]
  },
  {
   "cell_type": "code",
   "execution_count": null,
   "metadata": {},
   "outputs": [],
   "source": [
    "numerical_columns = ['Runtime', 'IMDB_Rating', 'Meta_score']\n",
    "\n",
    "for col in numerical_columns:\n",
    "    df = handle_outliers(df, col)\n",
    "    \n",
    "df[['Runtime_Cleaned', 'IMDB_Rating_Cleaned', 'Meta_score_Cleaned']]"
   ]
  },
  {
   "cell_type": "markdown",
   "metadata": {},
   "source": [
    "สรุปสถิติของข้อมูลที่ทำความสะอาดแล้ว"
   ]
  },
  {
   "cell_type": "code",
   "execution_count": null,
   "metadata": {},
   "outputs": [],
   "source": [
    "df.describe()"
   ]
  },
  {
   "cell_type": "markdown",
   "metadata": {},
   "source": [
    "จำนวนค่าที่หายไปหลังทำความสะอาด"
   ]
  },
  {
   "cell_type": "code",
   "execution_count": null,
   "metadata": {},
   "outputs": [],
   "source": [
    "df.isnull().sum()"
   ]
  },
  {
   "cell_type": "markdown",
   "metadata": {},
   "source": [
    "## Normalization\n",
    "\n",
    "ปรับช่วงของข้อมูลให้เล็กลงเพื่อการวิเคราะห์ที่ง่ายขึ้น"
   ]
  },
  {
   "cell_type": "markdown",
   "metadata": {},
   "source": [
    "ตัวอย่างข้อมูลก่อน Normalize"
   ]
  },
  {
   "cell_type": "code",
   "execution_count": null,
   "metadata": {},
   "outputs": [],
   "source": [
    "df[['IMDB_Rating', 'Meta_score', 'Runtime', 'Gross', 'No_of_Votes']]"
   ]
  },
  {
   "cell_type": "code",
   "execution_count": null,
   "metadata": {},
   "outputs": [],
   "source": [
    "df['IMDB_Rating_Normalized'] = df['IMDB_Rating'] / 10\n",
    "df['Meta_score_Normalized'] = df['Meta_score'] / 100\n",
    "df['Runtime_Z_Score'] = (df['Runtime'] - df['Runtime'].mean()) / df['Runtime'].std()\n",
    "df['Gross_Normalized'] = (df['Gross'] - df['Gross'].min()) / (df['Gross'].max() - df['Gross'].min())\n",
    "df['No_of_Votes_Normalized'] = (df['No_of_Votes'] - df['No_of_Votes'].min()) / (df['No_of_Votes'].max() - df['No_of_Votes'].min())\n",
    "\n",
    "df[['IMDB_Rating_Normalized', 'Meta_score_Normalized', 'Runtime_Z_Score', 'Gross_Normalized', 'No_of_Votes_Normalized']]"
   ]
  },
  {
   "cell_type": "markdown",
   "metadata": {},
   "source": [
    "## Visualization"
   ]
  },
  {
   "cell_type": "markdown",
   "metadata": {},
   "source": [
    "การกระจายตัวของ IMDB_Rating"
   ]
  },
  {
   "cell_type": "code",
   "execution_count": null,
   "metadata": {},
   "outputs": [],
   "source": [
    "plt.figure(figsize=(10, 6))\n",
    "sns.histplot(df['IMDB_Rating'], bins=20, kde=True)\n",
    "plt.title('Distribution of IMDB Ratings')\n",
    "plt.xlabel('IMDB Rating')\n",
    "plt.ylabel('Frequency')\n",
    "plt.show()"
   ]
  },
  {
   "cell_type": "markdown",
   "metadata": {},
   "source": [
    "การกระจายตัวของ Meta_score"
   ]
  },
  {
   "cell_type": "code",
   "execution_count": null,
   "metadata": {},
   "outputs": [],
   "source": [
    "plt.figure(figsize=(10, 6))\n",
    "sns.histplot(df['Meta_score'], bins=20, kde=True)\n",
    "plt.title('Distribution of Meta Scores')\n",
    "plt.xlabel('Meta Score')\n",
    "plt.ylabel('Frequency')\n",
    "plt.show()"
   ]
  },
  {
   "cell_type": "markdown",
   "metadata": {},
   "source": [
    "ความสัมพันธ์ระหว่าง IMDB_Rating และ Gross"
   ]
  },
  {
   "cell_type": "code",
   "execution_count": null,
   "metadata": {},
   "outputs": [],
   "source": [
    "plt.figure(figsize=(10, 6))\n",
    "sns.scatterplot(x='IMDB_Rating', y='Gross', data=df)\n",
    "plt.title('IMDB Rating vs Gross')\n",
    "plt.xlabel('IMDB Rating')\n",
    "plt.ylabel('Gross')\n",
    "plt.show()"
   ]
  },
  {
   "cell_type": "markdown",
   "metadata": {},
   "source": [
    "ความสัมพันธ์ระหว่าง Released_Year และ Gross"
   ]
  },
  {
   "cell_type": "code",
   "execution_count": null,
   "metadata": {},
   "outputs": [],
   "source": [
    "plt.figure(figsize=(10, 6))\n",
    "sns.lineplot(x='Released_Year', y='Gross', data=df)\n",
    "plt.title('Released Year vs Gross')\n",
    "plt.xlabel('Released Year')\n",
    "plt.ylabel('Gross')\n",
    "plt.show()"
   ]
  },
  {
   "cell_type": "markdown",
   "metadata": {},
   "source": [
    "ความสัมพันธ์ระหว่าง Genre และ IMDB_Rating (เฉพาะอันดับแรก)"
   ]
  },
  {
   "cell_type": "code",
   "execution_count": null,
   "metadata": {},
   "outputs": [],
   "source": [
    "top_genre = df['Genre_List'].explode().value_counts().idxmax()\n",
    "df_top_genre = df[df['Genre_List'].apply(lambda genres: top_genre in genres)]\n",
    "\n",
    "plt.figure(figsize=(14, 8))\n",
    "sns.boxplot(x='IMDB_Rating', y='Genre', data=df_top_genre.explode('Genre_List'))\n",
    "plt.title(f'IMDB Rating for Genre: {top_genre}')\n",
    "plt.xlabel('IMDB Rating')\n",
    "plt.ylabel('Genre')\n",
    "plt.ylim(0, 20)\n",
    "plt.show()"
   ]
  }
 ],
 "metadata": {
  "kernelspec": {
   "display_name": "conda310-venv",
   "language": "python",
   "name": "python3"
  },
  "language_info": {
   "codemirror_mode": {
    "name": "ipython",
    "version": 3
   },
   "file_extension": ".py",
   "mimetype": "text/x-python",
   "name": "python",
   "nbconvert_exporter": "python",
   "pygments_lexer": "ipython3",
   "version": "3.10.6"
  }
 },
 "nbformat": 4,
 "nbformat_minor": 2
}
