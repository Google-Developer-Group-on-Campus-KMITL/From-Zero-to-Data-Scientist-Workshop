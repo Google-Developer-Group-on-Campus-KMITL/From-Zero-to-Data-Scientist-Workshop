{
  "nbformat": 4,
  "nbformat_minor": 0,
  "metadata": {
    "colab": {
      "provenance": []
    },
    "kernelspec": {
      "name": "python3",
      "display_name": "Python 3"
    },
    "language_info": {
      "name": "python"
    }
  },
  "cells": [
    {
      "cell_type": "markdown",
      "source": [
        "## **Datatype in Python**\n"
      ],
      "metadata": {
        "id": "hARPwAyIQkRJ"
      }
    },
    {
      "cell_type": "code",
      "source": [
        "#integer\n",
        "a = 1\n",
        "\n",
        "#float\n",
        "b = 1.2\n",
        "b = 3/4\n",
        "\n",
        "#string\n",
        "c = \"hello\"\n",
        "\n",
        "#boolean\n",
        "d = True\n"
      ],
      "metadata": {
        "id": "mDX476ObRQgv"
      },
      "execution_count": null,
      "outputs": []
    },
    {
      "cell_type": "markdown",
      "source": [
        "Exercise #1"
      ],
      "metadata": {
        "id": "GAutpLgBShqX"
      }
    },
    {
      "cell_type": "code",
      "source": [
        "#try printing this\n",
        "c = b ** a\n",
        "d = c - 5\n",
        "\n",
        "print(c)\n",
        "print(d)\n"
      ],
      "metadata": {
        "colab": {
          "base_uri": "https://localhost:8080/"
        },
        "id": "iC0LTx9TR8d9",
        "outputId": "1c02c809-169d-49d3-a031-03af87302d59"
      },
      "execution_count": null,
      "outputs": [
        {
          "output_type": "stream",
          "name": "stdout",
          "text": [
            "0.75\n",
            "-4.25\n"
          ]
        }
      ]
    },
    {
      "cell_type": "code",
      "source": [
        "#try printing this\n",
        "y = \"apple\" + 5\n",
        "print(y)"
      ],
      "metadata": {
        "id": "ACi1kwW1gPc0",
        "outputId": "6b9a1310-762c-4c90-cb85-788778e1bd52",
        "colab": {
          "base_uri": "https://localhost:8080/",
          "height": 176
        }
      },
      "execution_count": null,
      "outputs": [
        {
          "output_type": "error",
          "ename": "TypeError",
          "evalue": "can only concatenate str (not \"int\") to str",
          "traceback": [
            "\u001b[0;31m---------------------------------------------------------------------------\u001b[0m",
            "\u001b[0;31mTypeError\u001b[0m                                 Traceback (most recent call last)",
            "\u001b[0;32m<ipython-input-3-f72965d4f09a>\u001b[0m in \u001b[0;36m<cell line: 2>\u001b[0;34m()\u001b[0m\n\u001b[1;32m      1\u001b[0m \u001b[0;31m#try printing this\u001b[0m\u001b[0;34m\u001b[0m\u001b[0;34m\u001b[0m\u001b[0m\n\u001b[0;32m----> 2\u001b[0;31m \u001b[0my\u001b[0m \u001b[0;34m=\u001b[0m \u001b[0;34m\"apple\"\u001b[0m \u001b[0;34m+\u001b[0m \u001b[0;36m5\u001b[0m\u001b[0;34m\u001b[0m\u001b[0;34m\u001b[0m\u001b[0m\n\u001b[0m\u001b[1;32m      3\u001b[0m \u001b[0mprint\u001b[0m\u001b[0;34m(\u001b[0m\u001b[0my\u001b[0m\u001b[0;34m)\u001b[0m\u001b[0;34m\u001b[0m\u001b[0;34m\u001b[0m\u001b[0m\n",
            "\u001b[0;31mTypeError\u001b[0m: can only concatenate str (not \"int\") to str"
          ]
        }
      ]
    },
    {
      "cell_type": "markdown",
      "source": [
        "Collections"
      ],
      "metadata": {
        "id": "Vnd3_kDrTBAX"
      }
    },
    {
      "cell_type": "markdown",
      "source": [
        "1. List"
      ],
      "metadata": {
        "id": "jNJIIIB3TxkL"
      }
    },
    {
      "cell_type": "code",
      "source": [
        "#ประกาศตัวเเปรที่เป็นลิสต์\n",
        "food = [\"rice\", \"beans\", \"pasta\"]"
      ],
      "metadata": {
        "id": "f6b4F5EATEG4"
      },
      "execution_count": null,
      "outputs": []
    },
    {
      "cell_type": "code",
      "source": [
        "#เพิ่มข้อมูลใน list\n",
        "food.append(\"pizza\")\n",
        "print(food)"
      ],
      "metadata": {
        "id": "a9MWUnrCT-7-"
      },
      "execution_count": null,
      "outputs": []
    },
    {
      "cell_type": "code",
      "source": [
        "#เพิ่มข้อมูลใน list ตรงตำเเหน่ง 1\n",
        "food.insert(1, \"burger\")\n",
        "print(food)"
      ],
      "metadata": {
        "id": "PkMhJDEHoQSq"
      },
      "execution_count": null,
      "outputs": []
    },
    {
      "cell_type": "code",
      "source": [
        "#ลบข้อมูลใน list ตาม index\n",
        "food.pop(2)\n",
        "print(food)"
      ],
      "metadata": {
        "id": "k1X32UFFUEoh"
      },
      "execution_count": null,
      "outputs": []
    },
    {
      "cell_type": "code",
      "source": [
        "#ลบข้อมูลใน list ตาม value\n",
        "food.remove(\"rice\")\n",
        "print(food)"
      ],
      "metadata": {
        "id": "U_BbVFFMUOgz"
      },
      "execution_count": null,
      "outputs": []
    },
    {
      "cell_type": "code",
      "source": [
        "#เเสดงจำนวนข้อมูลใน list\n",
        "print(len(food))"
      ],
      "metadata": {
        "id": "LePoMHJYUQ6m"
      },
      "execution_count": null,
      "outputs": []
    },
    {
      "cell_type": "code",
      "source": [
        "#แสดงข้อมูลใน list ตาม index\n",
        "print(food[1])"
      ],
      "metadata": {
        "id": "4LmCcEvKUVBD"
      },
      "execution_count": null,
      "outputs": []
    },
    {
      "cell_type": "markdown",
      "source": [
        "Exercise #1"
      ],
      "metadata": {
        "id": "739qFu0foZs5"
      }
    },
    {
      "cell_type": "code",
      "source": [
        "# สร้างลิสต์ชื่อ fruits ที่มี \"apple\", \"banana\", \"orange\"\n",
        "# เพิ่ม \"grape\" ลงในลิสต์โดยใช้คำสั่ง append()\n",
        "# เพิ่ม \"watermelon\" ลงในตำแหน่งที่ 1 (index 1) โดยใช้คำสั่ง insert()\n",
        "# แสดงข้อมูลตัวแรกในลิสต์ (index 0)\n",
        "# ใช้คำสั่ง len() เพื่อนับจำนวนข้อมูลในลิสต์\n",
        "# แสดงลิสต์ fruits\n",
        "fruits = ['apple', 'banana', 'orange']\n",
        "# โค้ดของคุณ"
      ],
      "metadata": {
        "id": "AFdqZRLln54r"
      },
      "execution_count": null,
      "outputs": []
    },
    {
      "cell_type": "markdown",
      "source": [
        "2. Dictionary(dict)"
      ],
      "metadata": {
        "id": "O4-9jzJqUZ8P"
      }
    },
    {
      "cell_type": "code",
      "source": [
        "#ประกาศตัวเเปรที่เป็น dict\n",
        "countries = {'de': 'Germany', 'ua': 'Ukraine',\n",
        "             'th': 'Thailand', 'nl': 'Netherlands'}"
      ],
      "metadata": {
        "id": "z_25wrPmUejO"
      },
      "execution_count": null,
      "outputs": []
    },
    {
      "cell_type": "code",
      "source": [
        "#เเสดง keys ทั้งหมด\n",
        "print(countries.keys())"
      ],
      "metadata": {
        "id": "YwVedjYIUlVl",
        "colab": {
          "base_uri": "https://localhost:8080/"
        },
        "outputId": "e98dd0ca-7778-4608-db94-30d28f282252"
      },
      "execution_count": null,
      "outputs": [
        {
          "output_type": "stream",
          "name": "stdout",
          "text": [
            "dict_keys(['de', 'ua', 'th', 'nl'])\n"
          ]
        }
      ]
    },
    {
      "cell_type": "code",
      "source": [
        "#เเสดง values ทั้งหมด\n",
        "print(countries.values())"
      ],
      "metadata": {
        "id": "JthbDRGwUxda",
        "colab": {
          "base_uri": "https://localhost:8080/"
        },
        "outputId": "b128bc4f-9e79-49af-c363-9f37651aa50f"
      },
      "execution_count": null,
      "outputs": [
        {
          "output_type": "stream",
          "name": "stdout",
          "text": [
            "dict_values(['Germany', 'Ukraine', 'Thailand', 'Netherlands'])\n"
          ]
        }
      ]
    },
    {
      "cell_type": "code",
      "source": [
        "# equal to countries['de']\n",
        "print(countries.get('de'))"
      ],
      "metadata": {
        "id": "46G-ChUmVHd5",
        "colab": {
          "base_uri": "https://localhost:8080/"
        },
        "outputId": "60b00f22-6fdb-4f02-8ee4-d8a5176c5df7"
      },
      "execution_count": null,
      "outputs": [
        {
          "output_type": "stream",
          "name": "stdout",
          "text": [
            "Germany\n"
          ]
        }
      ]
    },
    {
      "cell_type": "code",
      "source": [
        "# get value ของ key 'us'\n",
        "x = countries.get('us')\n",
        "print(x)"
      ],
      "metadata": {
        "id": "9dEpdHQ-VKwi",
        "colab": {
          "base_uri": "https://localhost:8080/"
        },
        "outputId": "a15e645c-e795-4aee-ad9b-d4da8f8bfd60"
      },
      "execution_count": null,
      "outputs": [
        {
          "output_type": "stream",
          "name": "stdout",
          "text": [
            "None\n"
          ]
        }
      ]
    },
    {
      "cell_type": "code",
      "source": [
        "# pop ข้อมูลที่มี key เป็น 'th', y = ค่าที่ถูก pop ออกมา\n",
        "y = countries.pop(\"th\")\n",
        "print(y)"
      ],
      "metadata": {
        "id": "p2Z4obQCVMQl",
        "colab": {
          "base_uri": "https://localhost:8080/"
        },
        "outputId": "6785432a-ade0-4d67-d8c8-99611544fab8"
      },
      "execution_count": null,
      "outputs": [
        {
          "output_type": "stream",
          "name": "stdout",
          "text": [
            "Thailand\n"
          ]
        }
      ]
    },
    {
      "cell_type": "code",
      "source": [
        "# x คือ dictใหม่ ที่คัดลอกข้อมูลใน dictionary\n",
        "x = countries.copy()\n",
        "print(x)\n",
        "print(\"Check if x is equal to countries dictionary: \", x == countries)"
      ],
      "metadata": {
        "id": "tKg4KzO_Vcff",
        "colab": {
          "base_uri": "https://localhost:8080/"
        },
        "outputId": "736e8541-7226-43ff-fb01-058c8cfd963b"
      },
      "execution_count": null,
      "outputs": [
        {
          "output_type": "stream",
          "name": "stdout",
          "text": [
            "{'de': 'Germany', 'ua': 'Ukraine', 'nl': 'Netherlands'}\n",
            "Check if x is equal to countries dictionary:  True\n"
          ]
        }
      ]
    },
    {
      "cell_type": "code",
      "source": [
        "#เพิ่มข้อมูลใน dictionary\n",
        "countries.update({\"jp\": \"Japan\"})\n",
        "print(countries)"
      ],
      "metadata": {
        "id": "lLKFagFAVsWe",
        "colab": {
          "base_uri": "https://localhost:8080/"
        },
        "outputId": "5b1ce2b2-43d3-41e9-b802-4da42c7340da"
      },
      "execution_count": null,
      "outputs": [
        {
          "output_type": "stream",
          "name": "stdout",
          "text": [
            "{'de': 'Germany', 'ua': 'Ukraine', 'nl': 'Netherlands', 'jp': 'Japan'}\n"
          ]
        }
      ]
    },
    {
      "cell_type": "code",
      "source": [
        "# ลบข้อมูลทั้งหมดใน dictionary\n",
        "countries.clear()\n",
        "print(countries)"
      ],
      "metadata": {
        "id": "hyCNQZb6VOaR",
        "colab": {
          "base_uri": "https://localhost:8080/"
        },
        "outputId": "f88c6f3d-aec1-49d9-9815-1ef13483056e"
      },
      "execution_count": null,
      "outputs": [
        {
          "output_type": "stream",
          "name": "stdout",
          "text": [
            "{}\n"
          ]
        }
      ]
    },
    {
      "cell_type": "markdown",
      "source": [
        "Exercise #2"
      ],
      "metadata": {
        "id": "pZs8gssTon0y"
      }
    },
    {
      "cell_type": "code",
      "source": [
        "# สร้าง Dictionary ชื่อ students ที่มีข้อมูลดังนี้:\n",
        "# {'001': 'Alice', '002': 'Bob', '003': 'Charlie'}\n",
        "\n",
        "# ดึงค่าของ Key '001' และแสดงผล\n",
        "# ใช้ get() เพื่อดึงค่าของ Key '003'\n",
        "# ตรวจสอบ Key '004' ใน Dictionary และแสดงค่าหากมี (ใช้ get())\n",
        "# เพิ่มข้อมูลวิชา '004': 'Shane'\n",
        "# ตรวจสอบ Key '004' ใน Dictionary และแสดงค่าหากมี (ใช้ get())"
      ],
      "metadata": {
        "id": "AtcXQwoyonCM"
      },
      "execution_count": null,
      "outputs": []
    },
    {
      "cell_type": "markdown",
      "source": [
        "3. Set\n"
      ],
      "metadata": {
        "id": "RCaOVcQbVxA0"
      }
    },
    {
      "cell_type": "code",
      "source": [
        "#ประกาศตัวเเปรที่เป็น set\n",
        "numbers = set([1, 2, 3])"
      ],
      "metadata": {
        "id": "lNgM_YaFVzHZ"
      },
      "execution_count": null,
      "outputs": []
    },
    {
      "cell_type": "code",
      "source": [
        "#เพิ่มข้อมูลใน set\n",
        "numbers.add(4)\n",
        "print(numbers)"
      ],
      "metadata": {
        "id": "etISLC4-V3zW",
        "colab": {
          "base_uri": "https://localhost:8080/"
        },
        "outputId": "16e8d3da-ccde-468f-b504-b8e48496b4a3"
      },
      "execution_count": null,
      "outputs": [
        {
          "output_type": "stream",
          "name": "stdout",
          "text": [
            "{1, 2, 3, 4}\n"
          ]
        }
      ]
    },
    {
      "cell_type": "code",
      "source": [
        "#ลบข้อมูลใน set\n",
        "numbers.remove(4)\n",
        "print(numbers)"
      ],
      "metadata": {
        "id": "t9eyk1loV447",
        "colab": {
          "base_uri": "https://localhost:8080/"
        },
        "outputId": "fc1f3faf-af6a-46fc-9b26-ba6b8934a995"
      },
      "execution_count": null,
      "outputs": [
        {
          "output_type": "stream",
          "name": "stdout",
          "text": [
            "{1, 2, 3}\n"
          ]
        }
      ]
    },
    {
      "cell_type": "code",
      "source": [
        "#เช็คข้อมูลใน setว่ามีหรือไม่\n",
        "print(100 in numbers)"
      ],
      "metadata": {
        "id": "_YnAk_6NWmrE",
        "colab": {
          "base_uri": "https://localhost:8080/"
        },
        "outputId": "87a77f82-3a0f-43e4-96db-21766bd6dd91"
      },
      "execution_count": null,
      "outputs": [
        {
          "output_type": "stream",
          "name": "stdout",
          "text": [
            "False\n"
          ]
        }
      ]
    },
    {
      "cell_type": "code",
      "source": [
        "#ลบข้อมูลทั้งหมดใน set\n",
        "numbers.clear()\n",
        "print(numbers)"
      ],
      "metadata": {
        "id": "Dfmg-RtlWo98",
        "colab": {
          "base_uri": "https://localhost:8080/"
        },
        "outputId": "c455d665-0301-4cdb-c644-7a7211d75889"
      },
      "execution_count": null,
      "outputs": [
        {
          "output_type": "stream",
          "name": "stdout",
          "text": [
            "set()\n"
          ]
        }
      ]
    },
    {
      "cell_type": "code",
      "source": [
        "a = {1, 2, 3, 4, 5}\n",
        "b = {3, 4, 5, 6, 7}\n",
        "\n",
        "c = a.union(b) #การรวมเซต a และ b\n",
        "print(\"result of a union b is \", c)\n",
        "\n",
        "c = a.intersection(b) #การหาสมาชิกที่มีอยู่ทั้งในเซต a และ b\n",
        "print(\"result of a intersect b is \", c)\n",
        "\n",
        "c = a.difference(b) #การหาสมาชิกที่อยู่ในเซต a แต่ไม่อยู่ในเซต b\n",
        "print(\"result of a difference b is \", c)\n",
        "\n",
        "c = a.symmetric_difference(b) #การหาสมาชิกที่อยู่ในเซต a หรือ b แต่ไม่อยู่ในทั้งสองเซตพร้อมกัน\n",
        "print(\"result of a symmetric difference b is \", c)"
      ],
      "metadata": {
        "id": "NBbU09lyWrTa",
        "colab": {
          "base_uri": "https://localhost:8080/"
        },
        "outputId": "fbad62da-2a85-4e82-8363-2b6c9ea2b0bf"
      },
      "execution_count": null,
      "outputs": [
        {
          "output_type": "stream",
          "name": "stdout",
          "text": [
            "result of a union b is  {1, 2, 3, 4, 5, 6, 7}\n",
            "result of a intersect b is  {3, 4, 5}\n",
            "result of a difference b is  {1, 2}\n",
            "result of a symmetric difference b is  {1, 2, 6, 7}\n"
          ]
        }
      ]
    },
    {
      "cell_type": "markdown",
      "source": [
        "## **Loop**"
      ],
      "metadata": {
        "id": "IUYQhfqWXl00"
      }
    },
    {
      "cell_type": "markdown",
      "source": [
        "1. For loop\n"
      ],
      "metadata": {
        "id": "WBasVKoPYIqZ"
      }
    },
    {
      "cell_type": "code",
      "source": [
        "#for loop\n",
        "colors = ['red', 'green', 'yellow', 'black']"
      ],
      "metadata": {
        "id": "pf2HoundW1CL"
      },
      "execution_count": null,
      "outputs": []
    },
    {
      "cell_type": "code",
      "source": [
        "#วนลูปสมาชิกในลิสต์ colors\n",
        "for color in colors:\n",
        "  print(color)"
      ],
      "metadata": {
        "id": "g9OTVOFsYEOB",
        "colab": {
          "base_uri": "https://localhost:8080/"
        },
        "outputId": "c1fdc746-e40e-4c38-ec7d-459c52195208"
      },
      "execution_count": null,
      "outputs": [
        {
          "output_type": "stream",
          "name": "stdout",
          "text": [
            "red\n",
            "green\n",
            "yellow\n",
            "black\n"
          ]
        }
      ]
    },
    {
      "cell_type": "code",
      "source": [
        "#วนลูปสมาชิก 3 ตัวในลิสต์ colors\n",
        "for i in range(3):\n",
        "  print(colors[i])"
      ],
      "metadata": {
        "id": "Cl8zXHuiX7yM",
        "colab": {
          "base_uri": "https://localhost:8080/"
        },
        "outputId": "1685e05c-981f-4131-8575-7a2848b62be9"
      },
      "execution_count": null,
      "outputs": [
        {
          "output_type": "stream",
          "name": "stdout",
          "text": [
            "red\n",
            "green\n",
            "yellow\n"
          ]
        }
      ]
    },
    {
      "cell_type": "markdown",
      "source": [
        "2. While loop"
      ],
      "metadata": {
        "id": "q9RTqKVdYpJs"
      }
    },
    {
      "cell_type": "code",
      "source": [
        "#While\n",
        "\n",
        "count = 0\n",
        "while count < 5: #หยุดเมื่อ count > หรือ = 5\n",
        "  print(f\"รอบที่ {count}\")\n",
        "  count += 1"
      ],
      "metadata": {
        "id": "CpL127JCX91_",
        "colab": {
          "base_uri": "https://localhost:8080/"
        },
        "outputId": "9b451cc1-354f-41bb-c282-4921bb74bc7a"
      },
      "execution_count": null,
      "outputs": [
        {
          "output_type": "stream",
          "name": "stdout",
          "text": [
            "รอบที่ 0\n",
            "รอบที่ 1\n",
            "รอบที่ 2\n",
            "รอบที่ 3\n",
            "รอบที่ 4\n"
          ]
        }
      ]
    },
    {
      "cell_type": "markdown",
      "source": [
        "## **Map and Filter**"
      ],
      "metadata": {
        "id": "-qlQic4ZYy_C"
      }
    },
    {
      "cell_type": "code",
      "source": [
        "#Map\n",
        "\n",
        "def to_uppercase(word): #เปลี่ยนเป็นตัวพิมพ์ใหญ่ให้หมด\n",
        "  return word.upper()\n",
        "\n",
        "\n",
        "words = ['hello', 'world']\n",
        "uppercase_words = list(map(to_uppercase, words))\n",
        "print(uppercase_words)"
      ],
      "metadata": {
        "id": "_vo-PJXGY1KM",
        "colab": {
          "base_uri": "https://localhost:8080/"
        },
        "outputId": "88e0cf50-1683-48ec-fe36-96985f133c63"
      },
      "execution_count": null,
      "outputs": [
        {
          "output_type": "stream",
          "name": "stdout",
          "text": [
            "['HELLO', 'WORLD']\n"
          ]
        }
      ]
    },
    {
      "cell_type": "code",
      "source": [
        "#Filter\n",
        "\n",
        "def is_positive(num): #เช็คว่า num เป็น \"จำนวนบวก\"\n",
        "  return num > 0\n",
        "\n",
        "numbers = [-1, 0, 2, -3, 4]\n",
        "positive_numbers = list(filter(is_positive, numbers)) #กรองสมาชิกในลิสต์ numbers เพื่อเลือกเฉพาะตัวเลขที่เป็น \"จำนวนบวก\"\n",
        "print(positive_numbers)"
      ],
      "metadata": {
        "id": "nYC4KfslY7OH",
        "colab": {
          "base_uri": "https://localhost:8080/"
        },
        "outputId": "86284c45-2ca6-4cb9-ff88-915a81e3829d"
      },
      "execution_count": null,
      "outputs": [
        {
          "output_type": "stream",
          "name": "stdout",
          "text": [
            "[2, 4]\n"
          ]
        }
      ]
    },
    {
      "cell_type": "markdown",
      "source": [
        "**Exercise** #3 & 4\n"
      ],
      "metadata": {
        "id": "6zfkOEiojcd9"
      }
    },
    {
      "cell_type": "code",
      "source": [
        "#ใช้ฟังก์ชัน map เพื่อคำนวณกำลังสองของตัวเลขในลิสต์ numbers และเก็บผลลัพธ์ในลิสต์ squared_numbers\n",
        "\n",
        "numbers = [1, 2, 3, 4, 5]\n",
        "\n",
        "def square(x):\n",
        "    return x ** 2\n",
        "\n",
        "squared_numbers = # โค้ดของคุณที่นี่\n",
        "\n",
        "print(squared_numbers)\n",
        "# Output: [1, 4, 9, 16, 25]"
      ],
      "metadata": {
        "id": "kCRTE2Z5i78x"
      },
      "execution_count": null,
      "outputs": []
    },
    {
      "cell_type": "code",
      "source": [
        "#ใช้ฟังก์ชัน filter เพื่อกรองเฉพาะตัวเลขคู่จากลิสต์ numbers\n",
        "\n",
        "numbers = [1, 2, 3, 4, 5]\n",
        "\n",
        "def is_even(x):\n",
        "    return x % 2 == 0\n",
        "\n",
        "even_numbers = # โค้ดของคุณที่นี่\n",
        "\n",
        "print(even_numbers)\n",
        "# Output: [2, 4]"
      ],
      "metadata": {
        "id": "-T0jHhSIkeql"
      },
      "execution_count": null,
      "outputs": []
    },
    {
      "cell_type": "markdown",
      "source": [
        "## **Lambda**"
      ],
      "metadata": {
        "id": "FkLchGfnaDY7"
      }
    },
    {
      "cell_type": "code",
      "source": [
        "#lambda\n",
        "add_with_lambda = lambda x, y: x + y\n",
        "print(\"add using lambda function: \", add_with_lambda(2, 3))\n",
        "\n",
        "#เทียบเท่ากับการประกาศ function เเบบปกติ\n",
        "def normal_add(x, y):\n",
        "  return x + y\n",
        "print(\"add using normal function: \", normal_add(2, 3))"
      ],
      "metadata": {
        "id": "lTeC4RomaGpd",
        "colab": {
          "base_uri": "https://localhost:8080/"
        },
        "outputId": "9445c9be-284c-463d-f6eb-46c484bd508a"
      },
      "execution_count": null,
      "outputs": [
        {
          "output_type": "stream",
          "name": "stdout",
          "text": [
            "add using lambda function:  5\n",
            "add using normal function:  5\n"
          ]
        }
      ]
    },
    {
      "cell_type": "code",
      "source": [
        "#lambda เมื่อใช้กับ Map\n",
        "numbers = [1, 2, 3, 4]\n",
        "squared = list(map(lambda x: x ** 2, numbers)) #นำสมาชิกทุกตัวในลิสต์ number มายกกำลังสอง\n",
        "print(\"result: \", squared)"
      ],
      "metadata": {
        "id": "MZYcDSWRaqvL",
        "colab": {
          "base_uri": "https://localhost:8080/"
        },
        "outputId": "c3476c8c-33e6-44de-c333-5a03222de3ad"
      },
      "execution_count": null,
      "outputs": [
        {
          "output_type": "stream",
          "name": "stdout",
          "text": [
            "result:  [1, 4, 9, 16]\n"
          ]
        }
      ]
    },
    {
      "cell_type": "code",
      "source": [
        "#lambda เมื่อใช้กับ filter\n",
        "numbers = [1, 2, 3, 4, 5]\n",
        "even_numbers = list(filter(lambda x: x % 2 == 0, numbers)) #กรองสมาชิกในลิสต์ numbers เพื่อเลือกเฉพาะตัวเลขที่เป็น \"เลขคู่\"\n",
        "print(\"filter only element in numbers list: \", even_numbers)"
      ],
      "metadata": {
        "id": "rIY0Ri65asZq",
        "colab": {
          "base_uri": "https://localhost:8080/"
        },
        "outputId": "474bf9e6-8cb8-408e-bb7f-e1a68dc4bd34"
      },
      "execution_count": null,
      "outputs": [
        {
          "output_type": "stream",
          "name": "stdout",
          "text": [
            "filter only element in numbers list:  [2, 4]\n"
          ]
        }
      ]
    },
    {
      "cell_type": "markdown",
      "source": [
        "**Exercise #5**"
      ],
      "metadata": {
        "id": "Xd1hf2JmlDiQ"
      }
    },
    {
      "cell_type": "code",
      "source": [
        "#ใช้ฟังก์ชัน lambda เพื่อตรวจสอบว่าตัวเลขที่ป้อนเข้าไปเป็นค่าบวกหรือไม่\n",
        "\n",
        "is_positive_with_lambda = #โค้ดของคุณที่นี่\n",
        "print(\"is 5 positive? \", is_positive_with_lambda(5))   # Output: True\n",
        "print(\"is -3 positive? \", is_positive_with_lambda(-3)) # Output: False"
      ],
      "metadata": {
        "id": "q_IsjP3HlFyQ"
      },
      "execution_count": null,
      "outputs": []
    },
    {
      "cell_type": "markdown",
      "source": [
        "### **Solutions**"
      ],
      "metadata": {
        "id": "SdkFrCSaqu8t"
      }
    },
    {
      "cell_type": "code",
      "source": [
        "#Ex1\n",
        "\n",
        "# สร้างลิสต์ชื่อ fruits ที่มี \"apple\", \"banana\", \"orange\"\n",
        "fruits = [\"apple\", \"banana\", \"orange\"]\n",
        "\n",
        "# เพิ่ม \"grape\" ลงในลิสต์โดยใช้คำสั่ง append()\n",
        "fruits.append(\"grape\")\n",
        "\n",
        "# เพิ่ม \"watermelon\" ลงในตำแหน่งที่ 1 (index 1) โดยใช้คำสั่ง insert()\n",
        "fruits.insert(1, \"watermelon\")\n",
        "\n",
        "# แสดงข้อมูลตัวแรกในลิสต์ (index 0)\n",
        "print(\"First item in the list:\", fruits[0])  # Output: apple\n",
        "\n",
        "# ใช้คำสั่ง len() เพื่อนับจำนวนข้อมูลในลิสต์\n",
        "print(\"Number of items in the list:\", len(fruits))  # Output: 5\n",
        "\n",
        "# แสดงลิสต์ fruits\n",
        "print(\"List of fruits:\", fruits)\n",
        "# Output: ['apple', 'watermelon', 'banana', 'orange', 'grape']\n"
      ],
      "metadata": {
        "id": "vMq2Wwkupvco"
      },
      "execution_count": null,
      "outputs": []
    },
    {
      "cell_type": "code",
      "source": [
        "#Ex2\n",
        "\n",
        "# สร้าง Dictionary ชื่อ students ที่มีข้อมูลดังนี้:\n",
        "# {'001': 'Alice', '002': 'Bob', '003': 'Charlie'}\n",
        "students = {'001': 'Alice', '002': 'Bob', '003': 'Charlie'}\n",
        "\n",
        "# ดึงค่าของ Key '001' และแสดงผล\n",
        "print(\"Value for key '001':\", students['001'])  # Output: Alice\n",
        "\n",
        "# ใช้ get() เพื่อดึงค่าของ Key '003'\n",
        "print(\"Value for key '003':\", students.get('003'))  # Output: Charlie\n",
        "\n",
        "# ตรวจสอบ Key '004' ใน Dictionary และแสดงค่าหากมี (ใช้ get())\n",
        "print(\"Value for key '004':\", students.get('004', 'Not Found'))  # Output: Not Found\n",
        "\n",
        "# เพิ่มข้อมูล '004': 'Shane'\n",
        "countries.update({'004': 'Shane'})\n",
        "\n",
        "# ตรวจสอบ Key '004' ใน Dictionary และแสดงค่าหากมี (ใช้ get())\n",
        "print(\"Value for key '004':\", students.get('004'))  # Output: Shane\n"
      ],
      "metadata": {
        "id": "YI3tKcMap3UX"
      },
      "execution_count": null,
      "outputs": []
    },
    {
      "cell_type": "code",
      "source": [
        "#Ex3\n",
        "# ใช้ฟังก์ชัน map เพื่อคำนวณกำลังสองของตัวเลขในลิสต์ numbers\n",
        "squared_numbers = list(map(square, numbers))\n",
        "\n",
        "#Ex4\n",
        "# ใช้ฟังก์ชัน filter เพื่อกรองเฉพาะตัวเลขคู่จากลิสต์ numbers\n",
        "even_numbers = list(filter(is_even, numbers))\n",
        "\n",
        "#Ex5\n",
        "# ใช้ฟังก์ชัน lambda เพื่อตรวจสอบว่าตัวเลขที่ป้อนเข้าไปเป็นค่าบวกหรือไม่\n",
        "is_positive_with_lambda = lambda x: x > 0"
      ],
      "metadata": {
        "id": "REG8NlaxlIm8"
      },
      "execution_count": null,
      "outputs": []
    }
  ]
}